{
  "nbformat": 4,
  "nbformat_minor": 0,
  "metadata": {
    "colab": {
      "provenance": [],
      "cell_execution_strategy": "setup",
      "authorship_tag": "ABX9TyOET11UCxA2zGuUCt61ahF7",
      "include_colab_link": true
    },
    "kernelspec": {
      "name": "python3",
      "display_name": "Python 3"
    },
    "language_info": {
      "name": "python"
    }
  },
  "cells": [
    {
      "cell_type": "markdown",
      "metadata": {
        "id": "view-in-github",
        "colab_type": "text"
      },
      "source": [
        "<a href=\"https://colab.research.google.com/github/romeyer/first_gemini_test/blob/main/aulaAlura.ipynb\" target=\"_parent\"><img src=\"https://colab.research.google.com/assets/colab-badge.svg\" alt=\"Open In Colab\"/></a>"
      ]
    },
    {
      "cell_type": "markdown",
      "source": [
        "Instalando o SDK do Google"
      ],
      "metadata": {
        "id": "yf9kp_PywrOL"
      }
    },
    {
      "cell_type": "code",
      "execution_count": 23,
      "metadata": {
        "id": "c-0b9TDGsPkL"
      },
      "outputs": [],
      "source": [
        "!pip install -q -U google-generativeai"
      ]
    },
    {
      "cell_type": "code",
      "source": [
        "# Import the Python SDK\n",
        "import google.generativeai as genai\n",
        "from google.colab import userdata\n",
        "api_key = userdata.get('SECRET_KEY')\n",
        "genai.configure(api_key=api_key)"
      ],
      "metadata": {
        "id": "ez-SNWMPyJYe"
      },
      "execution_count": 26,
      "outputs": []
    },
    {
      "cell_type": "markdown",
      "source": [
        "Listar os modelos disponíveis"
      ],
      "metadata": {
        "id": "H-we97vfyWx9"
      }
    },
    {
      "cell_type": "code",
      "source": [
        "for m in genai.list_models():\n",
        "  if 'generateContent' in m.supported_generation_methods:\n",
        "    print(m.name)"
      ],
      "metadata": {
        "colab": {
          "base_uri": "https://localhost:8080/",
          "height": 142
        },
        "id": "9VLaucXGyacm",
        "outputId": "9b566000-892d-484d-af86-b313231e76ee"
      },
      "execution_count": 27,
      "outputs": [
        {
          "output_type": "stream",
          "name": "stdout",
          "text": [
            "models/gemini-1.0-pro\n",
            "models/gemini-1.0-pro-001\n",
            "models/gemini-1.0-pro-latest\n",
            "models/gemini-1.0-pro-vision-latest\n",
            "models/gemini-1.5-pro-latest\n",
            "models/gemini-pro\n",
            "models/gemini-pro-vision\n"
          ]
        }
      ]
    },
    {
      "cell_type": "code",
      "source": [
        "generation_config = {\n",
        "    \"candidate_count\": 1,\n",
        "    \"temperature\": 0.5\n",
        "}"
      ],
      "metadata": {
        "id": "GsMKQSki1So5"
      },
      "execution_count": 28,
      "outputs": []
    },
    {
      "cell_type": "code",
      "source": [
        "safety_settings = {\n",
        "    'HATE': 'BLOCK_NONE',\n",
        "    'HARASSMENT': 'BLOCK_NONE',\n",
        "    'SEXUAL' : 'BLOCK_NONE',\n",
        "    'DANGEROUS' : 'BLOCK_NONE'\n",
        "}"
      ],
      "metadata": {
        "id": "UOof0hrK18mI"
      },
      "execution_count": 29,
      "outputs": []
    },
    {
      "cell_type": "code",
      "source": [
        "model = genai.GenerativeModel(model_name='gemini-1.0-pro',\n",
        "                                  generation_config=generation_config,\n",
        "                                  safety_settings=safety_settings,)"
      ],
      "metadata": {
        "id": "AVEtVcKJ4XcW"
      },
      "execution_count": 30,
      "outputs": []
    },
    {
      "cell_type": "code",
      "source": [
        "response = model.generate_content(\"Quem sou eu?\")\n",
        "response.text"
      ],
      "metadata": {
        "colab": {
          "base_uri": "https://localhost:8080/",
          "height": 35
        },
        "id": "t4P7NC-i4cb2",
        "outputId": "1b3a0300-ec18-4f79-fc4e-cd6cf025f8c5"
      },
      "execution_count": 31,
      "outputs": [
        {
          "output_type": "execute_result",
          "data": {
            "text/plain": [
              "'Sou um grande modelo de linguagem, treinado pelo Google.'"
            ],
            "application/vnd.google.colaboratory.intrinsic+json": {
              "type": "string"
            }
          },
          "metadata": {},
          "execution_count": 31
        }
      ]
    },
    {
      "cell_type": "code",
      "source": [
        "chat = model.start_chat(history=[])\n",
        "\n",
        "prompt = input('Esperando prompt: ')\n",
        "\n",
        "while prompt != \"fim\":\n",
        "  response = chat.send_message(prompt)\n",
        "  print(\"Resposta:\", response.text, '\\n\\n')\n",
        "  prompt = input('Esperando prompt: ')"
      ],
      "metadata": {
        "colab": {
          "base_uri": "https://localhost:8080/",
          "height": 412
        },
        "id": "StO6jT4V5gZc",
        "outputId": "276b9d05-beb9-4527-d53e-c9c11c3e2c94"
      },
      "execution_count": 19,
      "outputs": [
        {
          "name": "stdout",
          "output_type": "stream",
          "text": [
            "Esperando prompt: Testando aqui\n",
            "Resposta: Entendido. Estou aqui para ajudá-lo com qualquer dúvida ou tarefa que você possa ter. \n",
            "\n",
            "\n",
            "Esperando prompt: Você sabe o que estamos fazendo aqui? \n",
            "Resposta: Sim, compreendo que estamos testando minhas capacidades como assistente de IA. Você está avaliando minha capacidade de responder a perguntas, gerar texto e me comunicar de maneira eficaz. \n",
            "\n",
            "\n",
            "Esperando prompt: Seria muito legal aprender a programar \n",
            "Resposta: Concordo plenamente! Aprender a programar pode ser uma jornada incrivelmente gratificante e transformadora. Aqui estão algumas razões pelas quais aprender a programar é uma ótima ideia:\n",
            "\n",
            "* **Alta demanda:** Programadores são altamente procurados em vários setores, oferecendo excelentes oportunidades de carreira e potencial de ganhos.\n",
            "* **Resolução de problemas aprimorada:** A programação desenvolve habilidades essenciais de resolução de problemas, lógica e pensamento crítico.\n",
            "* **Criatividade e inovação:** A programação permite que você dê vida às suas ideias e crie soluções inovadoras para problemas do mundo real.\n",
            "* **Automatização e eficiência:** A programação pode automatizar tarefas repetitivas, liberando tempo para atividades mais criativas e estratégicas.\n",
            "* **Oportunidades de crescimento:** O campo da programação está em constante evolução, oferecendo oportunidades contínuas de aprendizado e crescimento profissional.\n",
            "\n",
            "Se você estiver interessado em aprender a programar, recomendo começar com uma linguagem iniciante como Python ou Java. Existem muitos recursos online e cursos disponíveis para ajudá-lo a começar. \n",
            "\n",
            "\n",
            "Esperando prompt: fim\n"
          ]
        }
      ]
    },
    {
      "cell_type": "code",
      "source": [
        "#Melhorando a visualização\n",
        "#Código disponível em https://ai.google.dev/tutorials/python_quickstart#import_packages\n",
        "import textwrap\n",
        "from IPython.display import display\n",
        "from IPython.display import Markdown\n",
        "\n",
        "def to_markdown(text):\n",
        "  text = text.replace('•', '  *')\n",
        "  return Markdown(textwrap.indent(text, '> ', predicate=lambda _: True))\n",
        "\n",
        "#Imprimindo o histórico\n",
        "for message in chat.history:\n",
        "  display(to_markdown(f'**{message.role}**: {message.parts[0].text}'))\n",
        "  print('-------------------------------------------')#Melhorando a visualização\n",
        "#Código disponível em https://ai.google.dev/tutorials/python_quickstart#import_packages\n",
        "import textwrap\n",
        "from IPython.display import display\n",
        "from IPython.display import Markdown\n",
        "\n",
        "def to_markdown(text):\n",
        "  text = text.replace('•', '  *')\n",
        "  return Markdown(textwrap.indent(text, '> ', predicate=lambda _: True))\n",
        "\n",
        "#Imprimindo o histórico\n",
        "for message in chat.history:\n",
        "  display(to_markdown(f'**{message.role}**: {message.parts[0].text}'))\n",
        "  print('-------------------------------------------')"
      ],
      "metadata": {
        "colab": {
          "base_uri": "https://localhost:8080/",
          "height": 1000
        },
        "id": "mbk0MiJ56jht",
        "outputId": "52f13000-91ec-4c36-f17f-13a8ed59aba7"
      },
      "execution_count": 20,
      "outputs": [
        {
          "output_type": "display_data",
          "data": {
            "text/plain": [
              "<IPython.core.display.Markdown object>"
            ],
            "text/markdown": "> **user**: Testando aqui"
          },
          "metadata": {}
        },
        {
          "output_type": "stream",
          "name": "stdout",
          "text": [
            "-------------------------------------------\n"
          ]
        },
        {
          "output_type": "display_data",
          "data": {
            "text/plain": [
              "<IPython.core.display.Markdown object>"
            ],
            "text/markdown": "> **model**: Entendido. Estou aqui para ajudá-lo com qualquer dúvida ou tarefa que você possa ter."
          },
          "metadata": {}
        },
        {
          "output_type": "stream",
          "name": "stdout",
          "text": [
            "-------------------------------------------\n"
          ]
        },
        {
          "output_type": "display_data",
          "data": {
            "text/plain": [
              "<IPython.core.display.Markdown object>"
            ],
            "text/markdown": "> **user**: Você sabe o que estamos fazendo aqui? "
          },
          "metadata": {}
        },
        {
          "output_type": "stream",
          "name": "stdout",
          "text": [
            "-------------------------------------------\n"
          ]
        },
        {
          "output_type": "display_data",
          "data": {
            "text/plain": [
              "<IPython.core.display.Markdown object>"
            ],
            "text/markdown": "> **model**: Sim, compreendo que estamos testando minhas capacidades como assistente de IA. Você está avaliando minha capacidade de responder a perguntas, gerar texto e me comunicar de maneira eficaz."
          },
          "metadata": {}
        },
        {
          "output_type": "stream",
          "name": "stdout",
          "text": [
            "-------------------------------------------\n"
          ]
        },
        {
          "output_type": "display_data",
          "data": {
            "text/plain": [
              "<IPython.core.display.Markdown object>"
            ],
            "text/markdown": "> **user**: Seria muito legal aprender a programar "
          },
          "metadata": {}
        },
        {
          "output_type": "stream",
          "name": "stdout",
          "text": [
            "-------------------------------------------\n"
          ]
        },
        {
          "output_type": "display_data",
          "data": {
            "text/plain": [
              "<IPython.core.display.Markdown object>"
            ],
            "text/markdown": "> **model**: Concordo plenamente! Aprender a programar pode ser uma jornada incrivelmente gratificante e transformadora. Aqui estão algumas razões pelas quais aprender a programar é uma ótima ideia:\n> \n> * **Alta demanda:** Programadores são altamente procurados em vários setores, oferecendo excelentes oportunidades de carreira e potencial de ganhos.\n> * **Resolução de problemas aprimorada:** A programação desenvolve habilidades essenciais de resolução de problemas, lógica e pensamento crítico.\n> * **Criatividade e inovação:** A programação permite que você dê vida às suas ideias e crie soluções inovadoras para problemas do mundo real.\n> * **Automatização e eficiência:** A programação pode automatizar tarefas repetitivas, liberando tempo para atividades mais criativas e estratégicas.\n> * **Oportunidades de crescimento:** O campo da programação está em constante evolução, oferecendo oportunidades contínuas de aprendizado e crescimento profissional.\n> \n> Se você estiver interessado em aprender a programar, recomendo começar com uma linguagem iniciante como Python ou Java. Existem muitos recursos online e cursos disponíveis para ajudá-lo a começar."
          },
          "metadata": {}
        },
        {
          "output_type": "stream",
          "name": "stdout",
          "text": [
            "-------------------------------------------\n"
          ]
        },
        {
          "output_type": "display_data",
          "data": {
            "text/plain": [
              "<IPython.core.display.Markdown object>"
            ],
            "text/markdown": "> **user**: Testando aqui"
          },
          "metadata": {}
        },
        {
          "output_type": "stream",
          "name": "stdout",
          "text": [
            "-------------------------------------------\n"
          ]
        },
        {
          "output_type": "display_data",
          "data": {
            "text/plain": [
              "<IPython.core.display.Markdown object>"
            ],
            "text/markdown": "> **model**: Entendido. Estou aqui para ajudá-lo com qualquer dúvida ou tarefa que você possa ter."
          },
          "metadata": {}
        },
        {
          "output_type": "stream",
          "name": "stdout",
          "text": [
            "-------------------------------------------\n"
          ]
        },
        {
          "output_type": "display_data",
          "data": {
            "text/plain": [
              "<IPython.core.display.Markdown object>"
            ],
            "text/markdown": "> **user**: Você sabe o que estamos fazendo aqui? "
          },
          "metadata": {}
        },
        {
          "output_type": "stream",
          "name": "stdout",
          "text": [
            "-------------------------------------------\n"
          ]
        },
        {
          "output_type": "display_data",
          "data": {
            "text/plain": [
              "<IPython.core.display.Markdown object>"
            ],
            "text/markdown": "> **model**: Sim, compreendo que estamos testando minhas capacidades como assistente de IA. Você está avaliando minha capacidade de responder a perguntas, gerar texto e me comunicar de maneira eficaz."
          },
          "metadata": {}
        },
        {
          "output_type": "stream",
          "name": "stdout",
          "text": [
            "-------------------------------------------\n"
          ]
        },
        {
          "output_type": "display_data",
          "data": {
            "text/plain": [
              "<IPython.core.display.Markdown object>"
            ],
            "text/markdown": "> **user**: Seria muito legal aprender a programar "
          },
          "metadata": {}
        },
        {
          "output_type": "stream",
          "name": "stdout",
          "text": [
            "-------------------------------------------\n"
          ]
        },
        {
          "output_type": "display_data",
          "data": {
            "text/plain": [
              "<IPython.core.display.Markdown object>"
            ],
            "text/markdown": "> **model**: Concordo plenamente! Aprender a programar pode ser uma jornada incrivelmente gratificante e transformadora. Aqui estão algumas razões pelas quais aprender a programar é uma ótima ideia:\n> \n> * **Alta demanda:** Programadores são altamente procurados em vários setores, oferecendo excelentes oportunidades de carreira e potencial de ganhos.\n> * **Resolução de problemas aprimorada:** A programação desenvolve habilidades essenciais de resolução de problemas, lógica e pensamento crítico.\n> * **Criatividade e inovação:** A programação permite que você dê vida às suas ideias e crie soluções inovadoras para problemas do mundo real.\n> * **Automatização e eficiência:** A programação pode automatizar tarefas repetitivas, liberando tempo para atividades mais criativas e estratégicas.\n> * **Oportunidades de crescimento:** O campo da programação está em constante evolução, oferecendo oportunidades contínuas de aprendizado e crescimento profissional.\n> \n> Se você estiver interessado em aprender a programar, recomendo começar com uma linguagem iniciante como Python ou Java. Existem muitos recursos online e cursos disponíveis para ajudá-lo a começar."
          },
          "metadata": {}
        },
        {
          "output_type": "stream",
          "name": "stdout",
          "text": [
            "-------------------------------------------\n"
          ]
        }
      ]
    },
    {
      "cell_type": "code",
      "source": [
        "chat"
      ],
      "metadata": {
        "colab": {
          "base_uri": "https://localhost:8080/"
        },
        "id": "7doTc4wZ7G9W",
        "outputId": "732f9beb-90ca-424f-d24b-eb2f2187ed87"
      },
      "execution_count": 21,
      "outputs": [
        {
          "output_type": "execute_result",
          "data": {
            "text/plain": [
              "ChatSession(\n",
              "    model=genai.GenerativeModel(\n",
              "        model_name='models/gemini-1.0-pro',\n",
              "        generation_config={'candidate_count': 1, 'temperature': 0.5},\n",
              "        safety_settings={<HarmCategory.HARM_CATEGORY_HATE_SPEECH: 8>: <HarmBlockThreshold.BLOCK_NONE: 4>, <HarmCategory.HARM_CATEGORY_HARASSMENT: 7>: <HarmBlockThreshold.BLOCK_NONE: 4>, <HarmCategory.HARM_CATEGORY_SEXUALLY_EXPLICIT: 9>: <HarmBlockThreshold.BLOCK_NONE: 4>, <HarmCategory.HARM_CATEGORY_DANGEROUS_CONTENT: 10>: <HarmBlockThreshold.BLOCK_NONE: 4>},\n",
              "        tools=None,\n",
              "        system_instruction=None,\n",
              "    ),\n",
              "    history=[glm.Content({'parts': [{'text': 'Testando aqui'}], 'role': 'user'}), glm.Content({'parts': [{'text': 'Entendido. E...cê possa ter.'}], 'role': 'model'}), glm.Content({'parts': [{'text': 'Você sabe o ...azendo aqui? '}], 'role': 'user'}), glm.Content({'parts': [{'text': 'Sim, compree...neira eficaz.'}], 'role': 'model'}), glm.Content({'parts': [{'text': 'Seria muito ... a programar '}], 'role': 'user'}), glm.Content({'parts': [{'text': 'Concordo ple...lo a começar.'}], 'role': 'model'})]\n",
              ")"
            ]
          },
          "metadata": {},
          "execution_count": 21
        }
      ]
    },
    {
      "cell_type": "code",
      "source": [
        "chat.history"
      ],
      "metadata": {
        "colab": {
          "base_uri": "https://localhost:8080/"
        },
        "id": "Bj3AAtvy7Kzy",
        "outputId": "1170355f-c7c5-4ddc-85b2-4b84c1820e95"
      },
      "execution_count": 22,
      "outputs": [
        {
          "output_type": "execute_result",
          "data": {
            "text/plain": [
              "[parts {\n",
              "   text: \"Testando aqui\"\n",
              " }\n",
              " role: \"user\",\n",
              " parts {\n",
              "   text: \"Entendido. Estou aqui para ajud\\303\\241-lo com qualquer d\\303\\272vida ou tarefa que voc\\303\\252 possa ter.\"\n",
              " }\n",
              " role: \"model\",\n",
              " parts {\n",
              "   text: \"Voc\\303\\252 sabe o que estamos fazendo aqui? \"\n",
              " }\n",
              " role: \"user\",\n",
              " parts {\n",
              "   text: \"Sim, compreendo que estamos testando minhas capacidades como assistente de IA. Voc\\303\\252 est\\303\\241 avaliando minha capacidade de responder a perguntas, gerar texto e me comunicar de maneira eficaz.\"\n",
              " }\n",
              " role: \"model\",\n",
              " parts {\n",
              "   text: \"Seria muito legal aprender a programar \"\n",
              " }\n",
              " role: \"user\",\n",
              " parts {\n",
              "   text: \"Concordo plenamente! Aprender a programar pode ser uma jornada incrivelmente gratificante e transformadora. Aqui est\\303\\243o algumas raz\\303\\265es pelas quais aprender a programar \\303\\251 uma \\303\\263tima ideia:\\n\\n* **Alta demanda:** Programadores s\\303\\243o altamente procurados em v\\303\\241rios setores, oferecendo excelentes oportunidades de carreira e potencial de ganhos.\\n* **Resolu\\303\\247\\303\\243o de problemas aprimorada:** A programa\\303\\247\\303\\243o desenvolve habilidades essenciais de resolu\\303\\247\\303\\243o de problemas, l\\303\\263gica e pensamento cr\\303\\255tico.\\n* **Criatividade e inova\\303\\247\\303\\243o:** A programa\\303\\247\\303\\243o permite que voc\\303\\252 d\\303\\252 vida \\303\\240s suas ideias e crie solu\\303\\247\\303\\265es inovadoras para problemas do mundo real.\\n* **Automatiza\\303\\247\\303\\243o e efici\\303\\252ncia:** A programa\\303\\247\\303\\243o pode automatizar tarefas repetitivas, liberando tempo para atividades mais criativas e estrat\\303\\251gicas.\\n* **Oportunidades de crescimento:** O campo da programa\\303\\247\\303\\243o est\\303\\241 em constante evolu\\303\\247\\303\\243o, oferecendo oportunidades cont\\303\\255nuas de aprendizado e crescimento profissional.\\n\\nSe voc\\303\\252 estiver interessado em aprender a programar, recomendo come\\303\\247ar com uma linguagem iniciante como Python ou Java. Existem muitos recursos online e cursos dispon\\303\\255veis para ajud\\303\\241-lo a come\\303\\247ar.\"\n",
              " }\n",
              " role: \"model\"]"
            ]
          },
          "metadata": {},
          "execution_count": 22
        }
      ]
    }
  ]
}